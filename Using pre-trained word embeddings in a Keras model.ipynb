{
 "cells": [
  {
   "cell_type": "markdown",
   "metadata": {},
   "source": [
    "https://blog.keras.io/using-pre-trained-word-embeddings-in-a-keras-model.html\n",
    "\n",
    "\n",
    "We will try to classify posts coming from 20 different newsgroup into their original 20 categories.\n",
    "\n",
    "\n",
    "## Approach\n",
    "- convert all text samples into seq of word indices. (consider only top 20,000 most commonly occurring words in the dataset, and will truncate the sequences to max length of 1000 words)\n",
    "- prepare an \"embedding matrix\" -> contain at index i the embedding vector for the word of index `i` in our word index.\n",
    "- load this embedding matrix `Embedding` layer, set to be frozen (its weights, the embedding vectors, will not be updated during training).\n",
    "- build on top of it 1D convolutaional nw, ending in a softmax output over our 20 categories."
   ]
  },
  {
   "cell_type": "code",
   "execution_count": 1,
   "metadata": {},
   "outputs": [
    {
     "name": "stderr",
     "output_type": "stream",
     "text": [
      "Using TensorFlow backend.\n",
      "/Users/narukawinjidtrengam/anaconda3/lib/python3.6/importlib/_bootstrap.py:219: RuntimeWarning: compiletime version 3.5 of module 'tensorflow.python.framework.fast_tensor_util' does not match runtime version 3.6\n",
      "  return f(*args, **kwds)\n"
     ]
    }
   ],
   "source": [
    "from keras.preprocessing.text import Tokenizer\n",
    "from keras.preprocessing.sequence import pad_sequences\n",
    "\n",
    "from keras.layers import Dense, Input, GlobalMaxPooling1D\n",
    "from keras.layers import Embedding, Conv1D, MaxPooling1D\n",
    "from keras.models import Model\n",
    "from keras.utils import to_categorical\n",
    "import numpy as np\n",
    "import sys\n",
    "import os"
   ]
  },
  {
   "cell_type": "code",
   "execution_count": 2,
   "metadata": {},
   "outputs": [],
   "source": [
    "BASE_DIR = ''\n",
    "GLOVE_DIR = os.path.join(BASE_DIR, 'glove.6B')\n",
    "TEXT_DATA_DIR = os.path.join(BASE_DIR, '20_newsgroup')\n",
    "MAX_SEQUENCE_LENGTH = 1000\n",
    "MAX_NB_WORDS = 20000\n",
    "EMBEDDING_DIM = 100\n",
    "VALIDATION_SPLIT = 0.2"
   ]
  },
  {
   "cell_type": "markdown",
   "metadata": {},
   "source": [
    "# Preparing the text data"
   ]
  },
  {
   "cell_type": "code",
   "execution_count": 10,
   "metadata": {},
   "outputs": [
    {
     "name": "stdout",
     "output_type": "stream",
     "text": [
      "Found 19997 texts\n"
     ]
    }
   ],
   "source": [
    "texts = []\n",
    "labels_index = {}\n",
    "labels = []\n",
    "\n",
    "for name in sorted(os.listdir(TEXT_DATA_DIR)):\n",
    "    path = os.path.join(TEXT_DATA_DIR, name)\n",
    "    if os.path.isdir(path):\n",
    "        label_id = len(labels_index)\n",
    "        labels_index[name] = label_id\n",
    "        for fname in sorted(os.listdir(path)):\n",
    "            if fname.isdigit():\n",
    "                fpath = os.path.join(path, fname)\n",
    "                f = open(fpath, encoding='latin-1')\n",
    "                t = f.read()\n",
    "                i = t.find('\\n\\n') # skip header\n",
    "                if 0 < i:\n",
    "                    t = t[i:]\n",
    "                texts.append(t)\n",
    "                f.close()\n",
    "                labels.append(label_id)\n",
    "                \n",
    "print('Found {} texts'.format(len(texts)))"
   ]
  },
  {
   "cell_type": "code",
   "execution_count": 11,
   "metadata": {},
   "outputs": [
    {
     "data": {
      "text/plain": [
       "['\\n\\nArchive-name: atheism/resources\\nAlt-atheism-archive-name: resources\\nLast-modified: 11 December 1992\\nVersion: 1.0\\n\\n                              Atheist Resources\\n\\n                      Addresses of Atheist Organizations\\n\\n                                     USA\\n\\nFREEDOM FROM RELIGION FOUNDATION\\n\\nDarwin fish bumper stickers and assorted other atheist paraphernalia are\\navailable from the Freedom From Religion Foundation in the US.\\n\\nWrite to:  FFRF, P.O. Box 750, Madison, WI 53701.\\nTelephone: (608) 256-8900\\n\\nEVOLUTION DESIGNS\\n\\nEvolution Designs sell the \"Darwin fish\".  It\\'s a fish symbol, like the ones\\nChristians stick on their cars, but with feet and the word \"Darwin\" written\\ninside.  The deluxe moulded 3D plastic fish is $4.95 postpaid in the US.\\n\\nWrite to:  Evolution Designs, 7119 Laurel Canyon #4, North Hollywood,\\n           CA 91605.\\n\\nPeople in the San Francisco Bay area can get Darwin Fish from Lynn Gold --\\ntry mailing <figmo@netcom.com>.  For net people who go to Lynn directly, the\\nprice is $4.95 per fish.\\n\\nAMERICAN ATHEIST PRESS\\n\\nAAP publish various atheist books -- critiques of the Bible, lists of\\nBiblical contradictions, and so on.  One such book is:\\n\\n\"The Bible Handbook\" by W.P. Ball and G.W. Foote.  American Atheist Press.\\n372 pp.  ISBN 0-910309-26-4, 2nd edition, 1986.  Bible contradictions,\\nabsurdities, atrocities, immoralities... contains Ball, Foote: \"The Bible\\nContradicts Itself\", AAP.  Based on the King James version of the Bible.\\n\\nWrite to:  American Atheist Press, P.O. Box 140195, Austin, TX 78714-0195.\\n      or:  7215 Cameron Road, Austin, TX 78752-2973.\\nTelephone: (512) 458-1244\\nFax:       (512) 467-9525\\n\\nPROMETHEUS BOOKS\\n\\nSell books including Haught\\'s \"Holy Horrors\" (see below).\\n\\nWrite to:  700 East Amherst Street, Buffalo, New York 14215.\\nTelephone: (716) 837-2475.\\n\\nAn alternate address (which may be newer or older) is:\\nPrometheus Books, 59 Glenn Drive, Buffalo, NY 14228-2197.\\n\\nAFRICAN-AMERICANS FOR HUMANISM\\n\\nAn organization promoting black secular humanism and uncovering the history of\\nblack freethought.  They publish a quarterly newsletter, AAH EXAMINER.\\n\\nWrite to:  Norm R. Allen, Jr., African Americans for Humanism, P.O. Box 664,\\n           Buffalo, NY 14226.\\n\\n                                United Kingdom\\n\\nRationalist Press Association          National Secular Society\\n88 Islington High Street               702 Holloway Road\\nLondon N1 8EW                          London N19 3NL\\n071 226 7251                           071 272 1266\\n\\nBritish Humanist Association           South Place Ethical Society\\n14 Lamb\\'s Conduit Passage              Conway Hall\\nLondon WC1R 4RH                        Red Lion Square\\n071 430 0908                           London WC1R 4RL\\nfax 071 430 1271                       071 831 7723\\n\\nThe National Secular Society publish \"The Freethinker\", a monthly magazine\\nfounded in 1881.\\n\\n                                   Germany\\n\\nIBKA e.V.\\nInternationaler Bund der Konfessionslosen und Atheisten\\nPostfach 880, D-1000 Berlin 41. Germany.\\n\\nIBKA publish a journal:\\nMIZ. (Materialien und Informationen zur Zeit. Politisches\\nJournal der Konfessionslosesn und Atheisten. Hrsg. IBKA e.V.)\\nMIZ-Vertrieb, Postfach 880, D-1000 Berlin 41. Germany.\\n\\nFor atheist books, write to:\\n\\nIBDK, Internationaler B\"ucherdienst der Konfessionslosen\\nPostfach 3005, D-3000 Hannover 1. Germany.\\nTelephone: 0511/211216\\n\\n\\n                               Books -- Fiction\\n\\nTHOMAS M. DISCH\\n\\n\"The Santa Claus Compromise\"\\nShort story.  The ultimate proof that Santa exists.  All characters and \\nevents are fictitious.  Any similarity to living or dead gods -- uh, well...\\n\\nWALTER M. MILLER, JR\\n\\n\"A Canticle for Leibowitz\"\\nOne gem in this post atomic doomsday novel is the monks who spent their lives\\ncopying blueprints from \"Saint Leibowitz\", filling the sheets of paper with\\nink and leaving white lines and letters.\\n\\nEDGAR PANGBORN\\n\\n\"Davy\"\\nPost atomic doomsday novel set in clerical states.  The church, for example,\\nforbids that anyone \"produce, describe or use any substance containing...\\natoms\". \\n\\nPHILIP K. DICK\\n\\nPhilip K. Dick Dick wrote many philosophical and thought-provoking short \\nstories and novels.  His stories are bizarre at times, but very approachable.\\nHe wrote mainly SF, but he wrote about people, truth and religion rather than\\ntechnology.  Although he often believed that he had met some sort of God, he\\nremained sceptical.  Amongst his novels, the following are of some relevance:\\n\\n\"Galactic Pot-Healer\"\\nA fallible alien deity summons a group of Earth craftsmen and women to a\\nremote planet to raise a giant cathedral from beneath the oceans.  When the\\ndeity begins to demand faith from the earthers, pot-healer Joe Fernwright is\\nunable to comply.  A polished, ironic and amusing novel.\\n\\n\"A Maze of Death\"\\nNoteworthy for its description of a technology-based religion.\\n\\n\"VALIS\"\\nThe schizophrenic hero searches for the hidden mysteries of Gnostic\\nChristianity after reality is fired into his brain by a pink laser beam of\\nunknown but possibly divine origin.  He is accompanied by his dogmatic and\\ndismissively atheist friend and assorted other odd characters.\\n\\n\"The Divine Invasion\"\\nGod invades Earth by making a young woman pregnant as she returns from\\nanother star system.  Unfortunately she is terminally ill, and must be\\nassisted by a dead man whose brain is wired to 24-hour easy listening music.\\n\\nMARGARET ATWOOD\\n\\n\"The Handmaid\\'s Tale\"\\nA story based on the premise that the US Congress is mysteriously\\nassassinated, and fundamentalists quickly take charge of the nation to set it\\n\"right\" again.  The book is the diary of a woman\\'s life as she tries to live\\nunder the new Christian theocracy.  Women\\'s right to own property is revoked,\\nand their bank accounts are closed; sinful luxuries are outlawed, and the\\nradio is only used for readings from the Bible.  Crimes are punished\\nretroactively: doctors who performed legal abortions in the \"old world\" are\\nhunted down and hanged.  Atwood\\'s writing style is difficult to get used to\\nat first, but the tale grows more and more chilling as it goes on.\\n\\nVARIOUS AUTHORS\\n\\n\"The Bible\"\\nThis somewhat dull and rambling work has often been criticized.  However, it\\nis probably worth reading, if only so that you\\'ll know what all the fuss is\\nabout.  It exists in many different versions, so make sure you get the one\\ntrue version.\\n\\n                             Books -- Non-fiction\\n\\nPETER DE ROSA\\n\\n\"Vicars of Christ\", Bantam Press, 1988\\nAlthough de Rosa seems to be Christian or even Catholic this is a very\\nenlighting history of papal immoralities, adulteries, fallacies etc.\\n(German translation: \"Gottes erste Diener. Die dunkle Seite des Papsttums\",\\nDroemer-Knaur, 1989)\\n\\nMICHAEL MARTIN\\n\\n\"Atheism: A Philosophical Justification\", Temple University Press,\\n Philadelphia, USA.\\nA detailed and scholarly justification of atheism.  Contains an outstanding\\nappendix defining terminology and usage in this (necessarily) tendentious\\narea.  Argues both for \"negative atheism\" (i.e. the \"non-belief in the\\nexistence of god(s)\") and also for \"positive atheism\" (\"the belief in the\\nnon-existence of god(s)\").  Includes great refutations of the most\\nchallenging arguments for god; particular attention is paid to refuting\\ncontempory theists such as Platinga and Swinburne.\\n541 pages. ISBN 0-87722-642-3 (hardcover; paperback also available)\\n\\n\"The Case Against Christianity\", Temple University Press\\nA comprehensive critique of Christianity, in which he considers\\nthe best contemporary defences of Christianity and (ultimately)\\ndemonstrates that they are unsupportable and/or incoherent.\\n273 pages. ISBN 0-87722-767-5\\n\\nJAMES TURNER\\n\\n\"Without God, Without Creed\", The Johns Hopkins University Press, Baltimore,\\n MD, USA\\nSubtitled \"The Origins of Unbelief in America\".  Examines the way in which\\nunbelief (whether agnostic or atheistic)  became a mainstream alternative\\nworld-view.  Focusses on the period 1770-1900, and while considering France\\nand Britain the emphasis is on American, and particularly New England\\ndevelopments.  \"Neither a religious history of secularization or atheism,\\nWithout God, Without Creed is, rather, the intellectual history of the fate\\nof a single idea, the belief that God exists.\" \\n316 pages. ISBN (hardcover) 0-8018-2494-X (paper) 0-8018-3407-4\\n\\nGEORGE SELDES (Editor)\\n\\n\"The great thoughts\", Ballantine Books, New York, USA\\nA \"dictionary of quotations\" of a different kind, concentrating on statements\\nand writings which, explicitly or implicitly, present the person\\'s philosophy\\nand world-view.  Includes obscure (and often suppressed) opinions from many\\npeople.  For some popular observations, traces the way in which various\\npeople expressed and twisted the idea over the centuries.  Quite a number of\\nthe quotations are derived from Cardiff\\'s \"What Great Men Think of Religion\"\\nand Noyes\\' \"Views of Religion\".\\n490 pages. ISBN (paper) 0-345-29887-X.\\n\\nRICHARD SWINBURNE\\n\\n\"The Existence of God (Revised Edition)\", Clarendon Paperbacks, Oxford\\nThis book is the second volume in a trilogy that began with \"The Coherence of\\nTheism\" (1977) and was concluded with \"Faith and Reason\" (1981).  In this\\nwork, Swinburne attempts to construct a series of inductive arguments for the\\nexistence of God.  His arguments, which are somewhat tendentious and rely\\nupon the imputation of late 20th century western Christian values and\\naesthetics to a God which is supposedly as simple as can be conceived, were\\ndecisively rejected in Mackie\\'s \"The Miracle of Theism\".  In the revised\\nedition of \"The Existence of God\", Swinburne includes an Appendix in which he\\nmakes a somewhat incoherent attempt to rebut Mackie.\\n\\nJ. L. MACKIE\\n\\n\"The Miracle of Theism\", Oxford\\nThis (posthumous) volume contains a comprehensive review of the principal\\narguments for and against the existence of God.  It ranges from the classical\\nphilosophical positions of Descartes, Anselm, Berkeley, Hume et al, through\\nthe moral arguments of Newman, Kant and Sidgwick, to the recent restatements\\nof the classical theses by Plantinga and Swinburne.  It also addresses those\\npositions which push the concept of God beyond the realm of the rational,\\nsuch as those of Kierkegaard, Kung and Philips, as well as \"replacements for\\nGod\" such as Lelie\\'s axiarchism.  The book is a delight to read - less\\nformalistic and better written than Martin\\'s works, and refreshingly direct\\nwhen compared with the hand-waving of Swinburne.\\n\\nJAMES A. HAUGHT\\n\\n\"Holy Horrors: An Illustrated History of Religious Murder and Madness\",\\n Prometheus Books\\nLooks at religious persecution from ancient times to the present day -- and\\nnot only by Christians.\\nLibrary of Congress Catalog Card Number 89-64079. 1990.\\n\\nNORM R. ALLEN, JR.\\n\\n\"African American Humanism: an Anthology\"\\nSee the listing for African Americans for Humanism above.\\n\\nGORDON STEIN\\n\\n\"An Anthology of Atheism and Rationalism\", Prometheus Books\\nAn anthology covering a wide range of subjects, including \\'The Devil, Evil\\nand Morality\\' and \\'The History of Freethought\\'.  Comprehensive bibliography.\\n\\nEDMUND D. COHEN\\n\\n\"The Mind of The Bible-Believer\", Prometheus Books\\nA study of why people become Christian fundamentalists, and what effect it\\nhas on them.\\n\\n                                Net Resources\\n\\nThere\\'s a small mail-based archive server at mantis.co.uk which carries\\narchives of old alt.atheism.moderated articles and assorted other files.  For\\nmore information, send mail to archive-server@mantis.co.uk saying\\n\\n   help\\n   send atheism/index\\n\\nand it will mail back a reply.\\n\\n\\nmathew\\nÿ\\n',\n",
       " '\\n\\nArchive-name: atheism/introduction\\nAlt-atheism-archive-name: introduction\\nLast-modified: 5 April 1993\\nVersion: 1.2\\n\\n-----BEGIN PGP SIGNED MESSAGE-----\\n\\n                          An Introduction to Atheism\\n                       by mathew <mathew@mantis.co.uk>\\n\\nThis article attempts to provide a general introduction to atheism.  Whilst I\\nhave tried to be as neutral as possible regarding contentious issues, you\\nshould always remember that this document represents only one viewpoint.  I\\nwould encourage you to read widely and draw your own conclusions; some\\nrelevant books are listed in a companion article.\\n\\nTo provide a sense of cohesion and progression, I have presented this article\\nas an imaginary conversation between an atheist and a theist.  All the\\nquestions asked by the imaginary theist are questions which have been cropped\\nup repeatedly on alt.atheism since the newsgroup was created.  Some other\\nfrequently asked questions are answered in a companion article.\\n\\nPlease note that this article is arguably slanted towards answering questions\\nposed from a Christian viewpoint.  This is because the FAQ files reflect\\nquestions which have actually been asked, and it is predominantly Christians\\nwho proselytize on alt.atheism.\\n\\nSo when I talk of religion, I am talking primarily about religions such as\\nChristianity, Judaism and Islam, which involve some sort of superhuman divine\\nbeing.  Much of the discussion will apply to other religions, but some of it\\nmay not.\\n\\n\"What is atheism?\"\\n\\nAtheism is characterized by an absence of belief in the existence of God.\\nSome atheists go further, and believe that God does not exist.  The former is\\noften referred to as the \"weak atheist\" position, and the latter as \"strong\\natheism\".\\n\\nIt is important to note the difference between these two positions.  \"Weak\\natheism\" is simple scepticism; disbelief in the existence of God.  \"Strong\\natheism\" is a positive belief that God does not exist.  Please do not\\nfall into the trap of assuming that all atheists are \"strong atheists\".\\n\\nSome atheists believe in the non-existence of all Gods; others limit their\\natheism to specific Gods, such as the Christian God, rather than making\\nflat-out denials.\\n\\n\"But isn\\'t disbelieving in God the same thing as believing he doesn\\'t exist?\"\\n\\nDefinitely not.  Disbelief in a proposition means that one does not believe\\nit to be true.  Not believing that something is true is not equivalent to\\nbelieving that it is false; one may simply have no idea whether it is true or\\nnot.  Which brings us to agnosticism.\\n\\n\"What is agnosticism then?\"\\n\\nThe term \\'agnosticism\\' was coined by Professor Huxley at a meeting of the\\nMetaphysical Society in 1876.  He defined an agnostic as someone who\\ndisclaimed (\"strong\") atheism and believed that the ultimate origin of things\\nmust be some cause unknown and unknowable.\\n\\nThus an agnostic is someone who believes that we do not and cannot know for\\nsure whether God exists.\\n\\nWords are slippery things, and language is inexact.  Beware of assuming that\\nyou can work out someone\\'s philosophical point of view simply from the fact\\nthat she calls herself an atheist or an agnostic.  For example, many people\\nuse agnosticism to mean \"weak atheism\", and use the word \"atheism\" only when\\nreferring to \"strong atheism\".\\n\\nBeware also that because the word \"atheist\" has so many shades of meaning, it\\nis very difficult to generalize about atheists.  About all you can say for\\nsure is that atheists don\\'t believe in God.  For example, it certainly isn\\'t\\nthe case that all atheists believe that science is the best way to find out\\nabout the universe.\\n\\n\"So what is the philosophical justification or basis for atheism?\"\\n\\nThere are many philosophical justifications for atheism.  To find out why a\\nparticular person chooses to be an atheist, it\\'s best to ask her.\\n\\nMany atheists feel that the idea of God as presented by the major religions\\nis essentially self-contradictory, and that it is logically impossible that\\nsuch a God could exist.  Others are atheists through scepticism, because they\\nsee no evidence that God exists.\\n\\n\"But isn\\'t it impossible to prove the non-existence of something?\"\\n\\nThere are many counter-examples to such a statement.  For example, it is\\nquite simple to prove that there does not exist a prime number larger than\\nall other prime numbers.  Of course, this deals with well-defined objects\\nobeying well-defined rules.  Whether Gods or universes are similarly\\nwell-defined is a matter for debate.\\n\\nHowever, assuming for the moment that the existence of a God is not provably\\nimpossible, there are still subtle reasons for assuming the non-existence of\\nGod.  If we assume that something does not exist, it is always possible to\\nshow that this assumption is invalid by finding a single counter-example.\\n\\nIf on the other hand we assume that something does exist, and if the thing in\\nquestion is not provably impossible, showing that the assumption is invalid\\nmay require an exhaustive search of all possible places where such a thing\\nmight be found, to show that it isn\\'t there.  Such an exhaustive search is\\noften impractical or impossible.  There is no such problem with largest\\nprimes, because we can prove that they don\\'t exist.\\n\\nTherefore it is generally accepted that we must assume things do not exist\\nunless we have evidence that they do.  Even theists follow this rule most of\\nthe time; they don\\'t believe in unicorns, even though they can\\'t conclusively\\nprove that no unicorns exist anywhere.\\n\\nTo assume that God exists is to make an assumption which probably cannot be\\ntested.  We cannot make an exhaustive search of everywhere God might be to\\nprove that he doesn\\'t exist anywhere.  So the sceptical atheist assumes by\\ndefault that God does not exist, since that is an assumption we can test.\\n\\nThose who profess strong atheism usually do not claim that no sort of God\\nexists; instead, they generally restrict their claims so as to cover\\nvarieties of God described by followers of various religions.  So whilst it\\nmay be impossible to prove conclusively that no God exists, it may be\\npossible to prove that (say) a God as described by a particular religious\\nbook does not exist.  It may even be possible to prove that no God described\\nby any present-day religion exists.\\n\\nIn practice, believing that no God described by any religion exists is very\\nclose to believing that no God exists.  However, it is sufficiently different\\nthat counter-arguments based on the impossibility of disproving every kind of\\nGod are not really applicable.\\n\\n\"But what if God is essentially non-detectable?\"\\n\\nIf God interacts with our universe in any way, the effects of his interaction\\nmust be measurable.  Hence his interaction with our universe must be\\ndetectable.\\n\\nIf God is essentially non-detectable, it must therefore be the case that he\\ndoes not interact with our universe in any way.  Many atheists would argue\\nthat if God does not interact with our universe at all, it is of no\\nimportance whether he exists or not.\\n\\nIf the Bible is to be believed, God was easily detectable by the Israelites.\\nSurely he should still be detectable today?\\n\\nNote that I am not demanding that God interact in a scientifically\\nverifiable, physical way.  It must surely be possible to perceive some\\neffect caused by his presence, though; otherwise, how can I distinguish him\\nfrom all the other things that don\\'t exist?\\n\\n\"OK, you may think there\\'s a philosophical justification for atheism, but\\n isn\\'t it still a religious belief?\"\\n\\nOne of the most common pastimes in philosophical discussion is \"the\\nredefinition game\".  The cynical view of this game is as follows:\\n\\nPerson A begins by making a contentious statement.  When person B points out\\nthat it can\\'t be true, person A gradually re-defines the words he used in the\\nstatement until he arrives at something person B is prepared to accept.  He\\nthen records the statement, along with the fact that person B has agreed to\\nit, and continues.  Eventually A uses the statement as an \"agreed fact\", but\\nuses his original definitions of all the words in it rather than the obscure\\nredefinitions originally needed to get B to agree to it.  Rather than be seen\\nto be apparently inconsistent, B will tend to play along.\\n\\nThe point of this digression is that the answer to the question \"Isn\\'t\\natheism a religious belief?\" depends crucially upon what is meant by\\n\"religious\".  \"Religion\" is generally characterized by belief in a superhuman\\ncontrolling power -- especially in some sort of God -- and by faith and\\nworship.\\n\\n[ It\\'s worth pointing out in passing that some varieties of Buddhism are not\\n  \"religion\" according to such a definition. ]\\n\\nAtheism is certainly not a belief in any sort of superhuman power, nor is it\\ncategorized by worship in any meaningful sense.  Widening the definition of\\n\"religious\" to encompass atheism tends to result in many other aspects of\\nhuman behaviour suddenly becoming classed as \"religious\" as well -- such as\\nscience, politics, and watching TV.\\n\\n\"OK, so it\\'s not a religion.  But surely belief in atheism (or science) is\\n still just an act of faith, like religion is?\"\\n\\nFirstly, it\\'s not entirely clear that sceptical atheism is something one\\nactually believes in.\\n\\nSecondly, it is necessary to adopt a number of core beliefs or assumptions to\\nmake some sort of sense out of the sensory data we experience.  Most atheists\\ntry to adopt as few core beliefs as possible; and even those are subject to\\nquestioning if experience throws them into doubt.\\n\\nScience has a number of core assumptions.  For example, it is generally\\nassumed that the laws of physics are the same for all observers.  These are\\nthe sort of core assumptions atheists make.  If such basic ideas are called\\n\"acts of faith\", then almost everything we know must be said to be based on\\nacts of faith, and the term loses its meaning.\\n\\nFaith is more often used to refer to complete, certain belief in something.\\nAccording to such a definition, atheism and science are certainly not acts of\\nfaith.  Of course, individual atheists or scientists can be as dogmatic as\\nreligious followers when claiming that something is \"certain\".  This is not a\\ngeneral tendency, however; there are many atheists who would be reluctant to\\nstate with certainty that the universe exists.\\n\\nFaith is also used to refer to belief without supporting evidence or proof.\\nSceptical atheism certainly doesn\\'t fit that definition, as sceptical atheism\\nhas no beliefs.  Strong atheism is closer, but still doesn\\'t really match, as\\neven the most dogmatic atheist will tend to refer to experimental data (or\\nthe lack of it) when asserting that God does not exist.\\n\\n\"If atheism is not religious, surely it\\'s anti-religious?\"\\n\\nIt is an unfortunate human tendency to label everyone as either \"for\" or\\n\"against\", \"friend\" or \"enemy\".  The truth is not so clear-cut.\\n\\nAtheism is the position that runs logically counter to theism; in that sense,\\nit can be said to be \"anti-religion\".  However, when religious believers\\nspeak of atheists being \"anti-religious\" they usually mean that the atheists\\nhave some sort of antipathy or hatred towards theists.\\n\\nThis categorization of atheists as hostile towards religion is quite unfair.\\nAtheist attitudes towards theists in fact cover a broad spectrum.\\n\\nMost atheists take a \"live and let live\" attitude.  Unless questioned, they\\nwill not usually mention their atheism, except perhaps to close friends.  Of\\ncourse, this may be in part because atheism is not \"socially acceptable\" in\\nmany countries.\\n\\nA few atheists are quite anti-religious, and may even try to \"convert\" others\\nwhen possible.  Historically, such anti-religious atheists have made little\\nimpact on society outside the Eastern Bloc countries.\\n\\n(To digress slightly: the Soviet Union was originally dedicated to separation\\nof church and state, just like the USA.  Soviet citizens were legally free to\\nworship as they wished.  The institution of \"state atheism\" came about when\\nStalin took control of the Soviet Union and tried to destroy the churches in\\norder to gain complete power over the population.)\\n\\nSome atheists are quite vocal about their beliefs, but only where they see\\nreligion encroaching on matters which are not its business -- for example,\\nthe government of the USA.  Such individuals are usually concerned that\\nchurch and state should remain separate.\\n\\n\"But if you don\\'t allow religion to have a say in the running of the state,\\n surely that\\'s the same as state atheism?\"\\n\\nThe principle of the separation of church and state is that the state shall\\nnot legislate concerning matters of religious belief.  In particular, it\\nmeans not only that the state cannot promote one religion at the expense of\\nanother, but also that it cannot promote any belief which is religious in\\nnature.\\n\\nReligions can still have a say in discussion of purely secular matters.  For\\nexample, religious believers have historically been responsible for\\nencouraging many political reforms.  Even today, many organizations\\ncampaigning for an increase in spending on foreign aid are founded as\\nreligious campaigns.  So long as they campaign concerning secular matters,\\nand so long as they do not discriminate on religious grounds, most atheists\\nare quite happy to see them have their say.\\n\\n\"What about prayer in schools? If there\\'s no God, why do you care if people\\n pray?\"\\n\\nBecause people who do pray are voters and lawmakers, and tend to do things\\nthat those who don\\'t pray can\\'t just ignore.  Also, Christian prayer in\\nschools is intimidating to non-Christians, even if they are told that they\\nneed not join in.  The diversity of religious and non-religious belief means\\nthat it is impossible to formulate a meaningful prayer that will be\\nacceptable to all those present at any public event.\\n\\nAlso, non-prayers tend to have friends and family who pray.  It is reasonable\\nto care about friends and family wasting their time, even without other\\nmotives.\\n\\n\"You mentioned Christians who campaign for increased foreign aid.  What about\\n atheists?  Why aren\\'t there any atheist charities or hospitals?  Don\\'t\\n atheists object to the religious charities?\"\\n\\nThere are many charities without religious purpose that atheists can\\ncontribute to.  Some atheists contribute to religious charities as well, for\\nthe sake of the practical good they do.  Some atheists even do voluntary work\\nfor charities founded on a theistic basis.\\n\\nMost atheists seem to feel that atheism isn\\'t worth shouting about in\\nconnection with charity.  To them, atheism is just a simple, obvious everyday\\nmatter, and so is charity.  Many feel that it\\'s somewhat cheap, not to say\\nself-righteous, to use simple charity as an excuse to plug a particular set\\nof religious beliefs.\\n\\nTo \"weak\" atheists, building a hospital to say \"I do not believe in God\" is a\\nrather strange idea; it\\'s rather like holding a party to say \"Today is not my\\nbirthday\".  Why the fuss?  Atheism is rarely evangelical.\\n\\n\"You said atheism isn\\'t anti-religious.  But is it perhaps a backlash against\\n one\\'s upbringing, a way of rebelling?\"\\n\\nPerhaps it is, for some.  But many people have parents who do not attempt to\\nforce any religious (or atheist) ideas upon them, and many of those people\\nchoose to call themselves atheists.\\n\\nIt\\'s also doubtless the case that some religious people chose religion as a\\nbacklash against an atheist upbringing, as a way of being different.  On the\\nother hand, many people choose religion as a way of conforming to the\\nexpectations of others.\\n\\nOn the whole, we can\\'t conclude much about whether atheism or religion are\\nbacklash or conformism; although in general, people have a tendency to go\\nalong with a group rather than act or think independently.\\n\\n\"How do atheists differ from religious people?\"\\n\\nThey don\\'t believe in God.  That\\'s all there is to it.\\n\\nAtheists may listen to heavy metal -- backwards, even -- or they may prefer a\\nVerdi Requiem, even if they know the words.  They may wear Hawaiian shirts,\\nthey may dress all in black, they may even wear orange robes.  (Many\\nBuddhists lack a belief in any sort of God.)  Some atheists even carry a copy\\nof the Bible around -- for arguing against, of course!\\n\\nWhoever you are, the chances are you have met several atheists without\\nrealising it.  Atheists are usually unexceptional in behaviour and\\nappearance.\\n\\n\"Unexceptional? But aren\\'t atheists less moral than religious people?\"\\n\\nThat depends.  If you define morality as obedience to God, then of course\\natheists are less moral as they don\\'t obey any God.  But usually when one\\ntalks of morality, one talks of what is acceptable (\"right\") and unacceptable\\n(\"wrong\") behaviour within society.\\n\\nHumans are social animals, and to be maximally successful they must\\nco-operate with each other.  This is a good enough reason to discourage most\\natheists from \"anti-social\" or \"immoral\" behaviour, purely for the purposes\\nof self-preservation.\\n\\nMany atheists behave in a \"moral\" or \"compassionate\" way simply because they\\nfeel a natural tendency to empathize with other humans.  So why do they care\\nwhat happens to others?  They don\\'t know, they simply are that way.\\n\\nNaturally, there are some people who behave \"immorally\" and try to use\\natheism to justify their actions.  However, there are equally many people who\\nbehave \"immorally\" and then try to use religious beliefs to justify their\\nactions.  For example:\\n\\n  \"Here is a trustworthy saying that deserves full acceptance: Jesus Christ\\n   came into the world to save sinners...  But for that very reason, I was\\n   shown mercy so that in me...  Jesus Christ might display His unlimited\\n   patience as an example for those who would believe in him and receive\\n   eternal life.  Now to the king eternal, immortal, invisible, the only God,\\n   be honor and glory forever and ever.\"\\n\\nThe above quote is from a statement made to the court on February 17th 1992\\nby Jeffrey Dahmer, the notorious cannibal serial killer of Milwaukee,\\nWisconsin.  It seems that for every atheist mass-murderer, there is a\\nreligious mass-murderer.  But what of more trivial morality?\\n\\n   A survey conducted by the Roper Organization found that behavior\\n   deteriorated after \"born again\" experiences.  While only 4% of respondents\\n   said they had driven intoxicated before being \"born again,\" 12% had done\\n   so after conversion.  Similarly, 5% had used illegal drugs before\\n   conversion, 9% after.  Two percent admitted to engaging in illicit sex\\n   before salvation; 5% after.\\n                                [\"Freethought Today\", September 1991, p. 12.]\\n\\nSo it seems that at best, religion does not have a monopoly on moral\\nbehaviour.\\n\\n\"Is there such a thing as atheist morality?\"\\n\\nIf you mean \"Is there such a thing as morality for atheists?\", then the\\nanswer is yes, as explained above.  Many atheists have ideas about morality\\nwhich are at least as strong as those held by religious people.\\n\\nIf you mean \"Does atheism have a characteristic moral code?\", then the answer\\nis no.  Atheism by itself does not imply anything much about how a person\\nwill behave.  Most atheists follow many of the same \"moral rules\" as theists,\\nbut for different reasons.  Atheists view morality as something created by\\nhumans, according to the way humans feel the world \\'ought\\' to work, rather\\nthan seeing it as a set of rules decreed by a supernatural being.\\n\\n\"Then aren\\'t atheists just theists who are denying God?\"\\n\\nA study by the Freedom From Religion Foundation found that over 90% of the\\natheists who responded became atheists because religion did not work for\\nthem.  They had found that religious beliefs were fundamentally incompatible\\nwith what they observed around them.\\n\\nAtheists are not unbelievers through ignorance or denial; they are\\nunbelievers through choice.  The vast majority of them have spent time\\nstudying one or more religions, sometimes in very great depth.  They have\\nmade a careful and considered decision to reject religious beliefs.\\n\\nThis decision may, of course, be an inevitable consequence of that\\nindividual\\'s personality.  For a naturally sceptical person, the choice\\nof atheism is often the only one that makes sense, and hence the only\\nchoice that person can honestly make.\\n\\n\"But don\\'t atheists want to believe in God?\"\\n\\nAtheists live their lives as though there is nobody watching over them.  Many\\nof them have no desire to be watched over, no matter how good-natured the\\n\"Big Brother\" figure might be.\\n\\nSome atheists would like to be able to believe in God -- but so what? Should\\none believe things merely because one wants them to be true?  The risks of\\nsuch an approach should be obvious.  Atheists often decide that wanting to\\nbelieve something is not enough; there must be evidence for the belief.\\n\\n\"But of course atheists see no evidence for the existence of God -- they are\\n unwilling in their souls to see!\"\\n\\nMany, if not most atheists were previously religious.  As has been explained\\nabove, the vast majority have seriously considered the possibility that God\\nexists.  Many atheists have spent time in prayer trying to reach God.\\n\\nOf course, it is true that some atheists lack an open mind; but assuming that\\nall atheists are biased and insincere is offensive and closed-minded.\\nComments such as \"Of course God is there, you just aren\\'t looking properly\"\\nare likely to be viewed as patronizing.\\n\\nCertainly, if you wish to engage in philosophical debate with atheists it is\\nvital that you give them the benefit of the doubt and assume that they are\\nbeing sincere if they say that they have searched for God.  If you are not\\nwilling to believe that they are basically telling the truth, debate is\\nfutile.\\n\\n\"Isn\\'t the whole of life completely pointless to an atheist?\"\\n\\nMany atheists live a purposeful life.  They decide what they think gives\\nmeaning to life, and they pursue those goals.  They try to make their lives\\ncount, not by wishing for eternal life, but by having an influence on other\\npeople who will live on.  For example, an atheist may dedicate his life to\\npolitical reform, in the hope of leaving his mark on history.\\n\\nIt is a natural human tendency to look for \"meaning\" or \"purpose\" in random\\nevents.  However, it is by no means obvious that \"life\" is the sort of thing\\nthat has a \"meaning\".\\n\\nTo put it another way, not everything which looks like a question is actually\\na sensible thing to ask.  Some atheists believe that asking \"What is the\\nmeaning of life?\" is as silly as asking \"What is the meaning of a cup of\\ncoffee?\".  They believe that life has no purpose or meaning, it just is.\\n\\n\"So how do atheists find comfort in time of danger?\"\\n\\nThere are many ways of obtaining comfort; from family, friends, or even pets.\\nOr on a less spiritual level, from food or drink or TV.\\n\\nThat may sound rather an empty and vulnerable way to face danger, but so\\nwhat?  Should individuals believe in things because they are comforting, or\\nshould they face reality no matter how harsh it might be?\\n\\nIn the end, it\\'s a decision for the individual concerned.  Most atheists are\\nunable to believe something they would not otherwise believe merely because\\nit makes them feel comfortable.  They put truth before comfort, and consider\\nthat if searching for truth sometimes makes them feel unhappy, that\\'s just\\nhard luck.\\n\\n\"Don\\'t atheists worry that they might suddenly be shown to be wrong?\"\\n\\nThe short answer is \"No, do you?\"\\n\\nMany atheists have been atheists for years.  They have encountered many\\narguments and much supposed evidence for the existence of God, but they have\\nfound all of it to be invalid or inconclusive.\\n\\nThousands of years of religious belief haven\\'t resulted in any good proof of\\nthe existence of God.  Atheists therefore tend to feel that they are unlikely\\nto be proved wrong in the immediate future, and they stop worrying about it.\\n\\n\"So why should theists question their beliefs? Don\\'t the same arguments\\n apply?\"\\n\\nNo, because the beliefs being questioned are not similar.  Weak atheism is\\nthe sceptical \"default position\" to take; it asserts nothing.  Strong atheism\\nis a negative belief.  Theism is a very strong positive belief.\\n\\nAtheists sometimes also argue that theists should question their beliefs\\nbecause of the very real harm they can cause -- not just to the believers,\\nbut to everyone else.\\n\\n\"What sort of harm?\"\\n\\nReligion represents a huge financial and work burden on mankind.  It\\'s not\\njust a matter of religious believers wasting their money on church buildings;\\nthink of all the time and effort spent building churches, praying, and so on.\\nImagine how that effort could be better spent.\\n\\nMany theists believe in miracle healing.  There have been plenty of instances\\nof ill people being \"healed\" by a priest, ceasing to take the medicines\\nprescribed to them by doctors, and dying as a result.  Some theists have died\\nbecause they have refused blood transfusions on religious grounds.\\n\\nIt is arguable that the Catholic Church\\'s opposition to birth control -- and\\ncondoms in particular -- is increasing the problem of overpopulation in many\\nthird-world countries and contributing to the spread of AIDS world-wide.\\n\\nReligious believers have been known to murder their children rather than\\nallow their children to become atheists or marry someone of a different\\nreligion.\\n\\n\"Those weren\\'t REAL believers.  They just claimed to be believers as some\\n sort of excuse.\"\\n\\nWhat makes a real believer?  There are so many One True Religions it\\'s hard\\nto tell.  Look at Christianity: there are many competing groups, all\\nconvinced that they are the only true Christians.  Sometimes they even fight\\nand kill each other.  How is an atheist supposed to decide who\\'s a REAL\\nChristian and who isn\\'t, when even the major Christian churches like the\\nCatholic Church and the Church of England can\\'t decide amongst themselves?\\n\\nIn the end, most atheists take a pragmatic view, and decide that anyone who\\ncalls himself a Christian, and uses Christian belief or dogma to justify his\\nactions, should be considered a Christian.  Maybe some of those Christians\\nare just perverting Christian teaching for their own ends -- but surely if\\nthe Bible can be so readily used to support un-Christian acts it can\\'t be\\nmuch of a moral code? If the Bible is the word of God, why couldn\\'t he have\\nmade it less easy to misinterpret? And how do you know that your beliefs\\naren\\'t a perversion of what your God intended?\\n\\nIf there is no single unambiguous interpretation of the Bible, then why\\nshould an atheist take one interpretation over another just on your say-so?\\nSorry, but if someone claims that he believes in Jesus and that he murdered\\nothers because Jesus and the Bible told him to do so, we must call him a\\nChristian.\\n\\n\"Obviously those extreme sorts of beliefs should be questioned.  But since\\n nobody has ever proved that God does not exist, it must be very unlikely\\n that more basic religious beliefs, shared by all faiths, are nonsense.\"\\n\\nThat does not hold, because as was pointed out at the start of this dialogue,\\npositive assertions concerning the existence of entities are inherently much\\nharder to disprove than negative ones.  Nobody has ever proved that unicorns\\ndon\\'t exist, but that doesn\\'t make it unlikely that they are myths.\\n\\nIt is therefore much more valid to hold a negative assertion by default than\\nit is to hold a positive assertion by default.  Of course, \"weak\" atheists\\nwould argue that asserting nothing is better still.\\n\\n\"Well, if atheism\\'s so great, why are there so many theists?\"\\n\\nUnfortunately, the popularity of a belief has little to do with how \"correct\"\\nit is, or whether it \"works\"; consider how many people believe in astrology,\\ngraphology, and other pseudo-sciences.\\n\\nMany atheists feel that it is simply a human weakness to want to believe in\\ngods.  Certainly in many primitive human societies, religion allows the\\npeople to deal with phenomena that they do not adequately understand.\\n\\nOf course, there\\'s more to religion than that.  In the industrialized world,\\nwe find people believing in religious explanations of phenomena even when\\nthere are perfectly adequate natural explanations.  Religion may have started\\nas a means of attempting to explain the world, but nowadays it serves other\\npurposes as well.\\n\\n\"But so many cultures have developed religions.  Surely that must say\\n something?\"\\n\\nNot really.  Most religions are only superficially similar; for example, it\\'s\\nworth remembering that religions such as Buddhism and Taoism lack any sort of\\nconcept of God in the Christian sense.\\n\\nOf course, most religions are quick to denounce competing religions, so it\\'s\\nrather odd to use one religion to try and justify another.\\n\\n\"What about all the famous scientists and philosophers who have concluded\\n that God exists?\"\\n\\nFor every scientist or philosopher who believes in a god, there is one who\\ndoes not.  Besides, as has already been pointed out, the truth of a belief is\\nnot determined by how many people believe it.  Also, it is important to\\nrealize that atheists do not view famous scientists or philosophers in the\\nsame way that theists view their religious leaders.\\n\\nA famous scientist is only human; she may be an expert in some fields, but\\nwhen she talks about other matters her words carry no special weight.  Many\\nrespected scientists have made themselves look foolish by speaking on\\nsubjects which lie outside their fields of expertise.\\n\\n\"So are you really saying that widespread belief in religion indicates\\n nothing?\"\\n\\nNot entirely.  It certainly indicates that the religion in question has\\nproperties which have helped it so spread so far.\\n\\nThe theory of memetics talks of \"memes\" -- sets of ideas which can propagate\\nthemselves between human minds, by analogy with genes.  Some atheists view\\nreligions as sets of particularly successful parasitic memes, which spread by\\nencouraging their hosts to convert others.  Some memes avoid destruction by\\ndiscouraging believers from questioning doctrine, or by using peer pressure\\nto keep one-time believers from admitting that they were mistaken.  Some\\nreligious memes even encourage their hosts to destroy hosts controlled by\\nother memes.\\n\\nOf course, in the memetic view there is no particular virtue associated with\\nsuccessful propagation of a meme.  Religion is not a good thing because of\\nthe number of people who believe it, any more than a disease is a good thing\\nbecause of the number of people who have caught it.\\n\\n\"Even if religion is not entirely true, at least it puts across important\\n messages.  What are the fundamental messages of atheism?\"\\n\\nThere are many important ideas atheists promote.  The following are just a\\nfew of them; don\\'t be surprised to see ideas which are also present in some\\nreligions.\\n\\n   There is more to moral behaviour than mindlessly following rules.\\n\\n   Be especially sceptical of positive claims.\\n\\n   If you want your life to have some sort of meaning, it\\'s up to you to\\n   find it.\\n\\n   Search for what is true, even if it makes you uncomfortable.\\n\\n   Make the most of your life, as it\\'s probably the only one you\\'ll have.\\n\\n   It\\'s no good relying on some external power to change you; you must change\\n   yourself.\\n\\n   Just because something\\'s popular doesn\\'t mean it\\'s good.\\n\\n   If you must assume something, assume something it\\'s easy to test.\\n\\n   Don\\'t believe things just because you want them to be true.\\n\\nand finally (and most importantly):\\n\\n   All beliefs should be open to question.\\n\\nThanks for taking the time to read this article.\\n\\n\\nmathew\\n\\n-----BEGIN PGP SIGNATURE-----\\nVersion: 2.2\\n\\niQCVAgUBK8AjRXzXN+VrOblFAQFSbwP+MHePY4g7ge8Mo5wpsivX+kHYYxMErFAO\\n7ltVtMVTu66Nz6sBbPw9QkbjArbY/S2sZ9NF5htdii0R6SsEyPl0R6/9bV9okE/q\\nnihqnzXE8pGvLt7tlez4EoeHZjXLEFrdEyPVayT54yQqGb4HARbOEHDcrTe2atmP\\nq0Z4hSSPpAU=\\n=q2V5\\n-----END PGP SIGNATURE-----\\n\\nFor information about PGP 2.2, send mail to pgpinfo@mantis.co.uk.\\nÿ\\n']"
      ]
     },
     "execution_count": 11,
     "metadata": {},
     "output_type": "execute_result"
    }
   ],
   "source": [
    "texts[0:2]"
   ]
  },
  {
   "cell_type": "code",
   "execution_count": 12,
   "metadata": {},
   "outputs": [
    {
     "data": {
      "text/plain": [
       "0"
      ]
     },
     "execution_count": 12,
     "metadata": {},
     "output_type": "execute_result"
    }
   ],
   "source": [
    "labels[0] # in what categorties"
   ]
  },
  {
   "cell_type": "code",
   "execution_count": 13,
   "metadata": {},
   "outputs": [
    {
     "data": {
      "text/plain": [
       "{'alt.atheism': 0,\n",
       " 'comp.graphics': 1,\n",
       " 'comp.os.ms-windows.misc': 2,\n",
       " 'comp.sys.ibm.pc.hardware': 3,\n",
       " 'comp.sys.mac.hardware': 4,\n",
       " 'comp.windows.x': 5,\n",
       " 'misc.forsale': 6,\n",
       " 'rec.autos': 7,\n",
       " 'rec.motorcycles': 8,\n",
       " 'rec.sport.baseball': 9,\n",
       " 'rec.sport.hockey': 10,\n",
       " 'sci.crypt': 11,\n",
       " 'sci.electronics': 12,\n",
       " 'sci.med': 13,\n",
       " 'sci.space': 14,\n",
       " 'soc.religion.christian': 15,\n",
       " 'talk.politics.guns': 16,\n",
       " 'talk.politics.mideast': 17,\n",
       " 'talk.politics.misc': 18,\n",
       " 'talk.religion.misc': 19}"
      ]
     },
     "execution_count": 13,
     "metadata": {},
     "output_type": "execute_result"
    }
   ],
   "source": [
    "labels_index"
   ]
  },
  {
   "cell_type": "markdown",
   "metadata": {},
   "source": [
    "### Format text samples and labels into tensors"
   ]
  },
  {
   "cell_type": "code",
   "execution_count": 14,
   "metadata": {},
   "outputs": [
    {
     "name": "stdout",
     "output_type": "stream",
     "text": [
      "Found 174074 unique tokens.\n",
      "before <class 'list'> 19997\n",
      "Shape of data tensor: (19997, 1000)\n",
      "Shape of label tensor: (19997, 20)\n"
     ]
    }
   ],
   "source": [
    "tokenizer = Tokenizer(num_words=MAX_NB_WORDS) # 20,000 words\n",
    "tokenizer.fit_on_texts(texts)\n",
    "sequences = tokenizer.texts_to_sequences(texts)\n",
    "\n",
    "word_index = tokenizer.word_index\n",
    "print(\"Found {} unique tokens.\".format(len(word_index)))\n",
    "\n",
    "data = pad_sequences(sequences, maxlen=MAX_SEQUENCE_LENGTH) # pad inputs\n",
    "\n",
    "print('before', type(labels), len(labels))\n",
    "labels = to_categorical(np.asarray(labels))\n",
    "print('Shape of data tensor:', data.shape)\n",
    "print('Shape of label tensor:', labels.shape)\n",
    "\n",
    "indices = np.arange(data.shape[0])\n",
    "np.random.shuffle(indices)\n",
    "data = data[indices]\n",
    "labels = labels[indices]\n",
    "nb_validation_samples = int(VALIDATION_SPLIT * data.shape[0])\n",
    "\n",
    "x_train = data[:-nb_validation_samples]\n",
    "y_train = labels[:-nb_validation_samples]\n",
    "x_val = data[-nb_validation_samples:]\n",
    "y_val = labels[-nb_validation_samples:]\n"
   ]
  },
  {
   "cell_type": "code",
   "execution_count": 8,
   "metadata": {},
   "outputs": [
    {
     "data": {
      "text/plain": [
       "3999"
      ]
     },
     "execution_count": 8,
     "metadata": {},
     "output_type": "execute_result"
    }
   ],
   "source": [
    "nb_validation_samples"
   ]
  },
  {
   "cell_type": "code",
   "execution_count": 9,
   "metadata": {},
   "outputs": [
    {
     "name": "stdout",
     "output_type": "stream",
     "text": [
      "19997\n",
      "(15998, 1000)\n",
      "15998 3999 19997\n"
     ]
    }
   ],
   "source": [
    "# 19997 texts\n",
    "print(len(texts))\n",
    "print(x_train.shape)\n",
    "print(x_train.shape[0], x_val.shape[0], x_train.shape[0]+x_val.shape[0])"
   ]
  },
  {
   "cell_type": "code",
   "execution_count": 10,
   "metadata": {},
   "outputs": [
    {
     "data": {
      "text/plain": [
       "array([    0,     0,     0,     0,     0,     0,     0,     0,     0,\n",
       "           0,     0,     0,     0,     0,     0,     0,     0,     0,\n",
       "           0,     0,     0,     0,     0,     0,     0,     0,     0,\n",
       "           0,     0,     0,     0,     0,     0,     0,     0,     0,\n",
       "           0,     0,     0,     0,     0,     0,     0,     0,     0,\n",
       "           0,     0,     0,     0,     0,     0,     0,     0,     0,\n",
       "           0,     0,     0,     0,     0,     0,     0,     0,     0,\n",
       "           0,     0,     0,     0,     0,     0,     0,     0,     0,\n",
       "           0,     0,     0,     0,     0,     0,     0,     0,     0,\n",
       "           0,     0,     0,     0,     0,     0,     0,     0,     0,\n",
       "           0,     0,     0,     0,     0,     0,     0,     0,     0,\n",
       "           0,     0,     0,     0,     0,     0,     0,     0,     0,\n",
       "           0,     0,     0,     0,     0,     0,     0,     0,     0,\n",
       "           0,     0,     0,     0,     0,     0,     0,     0,     0,\n",
       "           0,     0,     0,     0,     0,     0,     0,     0,     0,\n",
       "           0,     0,     0,     0,     0,     0,     0,     0,     0,\n",
       "           0,     0,     0,     0,     0,     0,     0,     0,     0,\n",
       "           0,     0,     0,     0,     0,     0,     0,     0,     0,\n",
       "           0,     0,     0,     0,     0,     0,     0,     0,     0,\n",
       "           0,     0,     0,     0,     0,     0,     0,     0,     0,\n",
       "           0,     0,     0,     0,     0,     0,     0,     0,     0,\n",
       "           0,     0,     0,     0,     0,     0,     0,     0,     0,\n",
       "           0,     0,     0,     0,     0,     0,     0,     0,     0,\n",
       "           0,     0,     0,     0,     0,     0,     0,     0,     0,\n",
       "           0,     0,     0,     0,     0,     0,     0,     0,     0,\n",
       "           0,     0,     0,     0,     0,     0,     0,     0,     0,\n",
       "           0,     0,     0,     0,     0,     0,     0,     0,     0,\n",
       "           0,     0,     0,     0,     0,     0,     0,     0,     0,\n",
       "           0,     0,     0,     0,     0,     0,     0,     0,     0,\n",
       "           0,     0,     0,     0,     0,     0,     0,     0,     0,\n",
       "           0,     0,     0,     0,     0,     0,     0,     0,     0,\n",
       "           0,     0,     0,     0,     0,     0,     0,     0,     0,\n",
       "           0,     0,     0,     0,     0,     0,     0,     0,     0,\n",
       "           0,     0,     0,     0,     0,     0,     0,     0,     0,\n",
       "           0,     0,     0,     0,     0,     0,     0,     0,     0,\n",
       "           0,     0,     0,     0,     0,     0,     0,     0,     0,\n",
       "           0,     0,     0,     0,     0,     0,     0,     0,     0,\n",
       "           0,     0,     0,     0,     0,     0,     0,     0,     0,\n",
       "           0,     0,     0,     0,     0,     0,     0,     0,     0,\n",
       "           0,     0,     0,     0,     0,     0,     0,     0,     0,\n",
       "           0,     0,     0,     0,     0,     0,     0,     0,     0,\n",
       "           0,     0,     0,     0,     0,     0,     0,     0,     0,\n",
       "           0,     0,     0,     0,     0,     0,     0,     0,     0,\n",
       "           0,     0,     0,     0,     0,     0,     0,     0,     0,\n",
       "           0,     0,     0,     0,     0,     0,     0,     0,     0,\n",
       "           0,     0,     0,     0,     0,     0,     0,     0,     0,\n",
       "           0,     0,     0,     0,     0,     0,     0,     0,     0,\n",
       "           0,     0,     0,     0,     0,     0,     0,     0,     0,\n",
       "           0,     0,     0,     0,     0,     0,     0,     0,     0,\n",
       "           0,     0,     0,     0,     0,     0,     0,     0,     0,\n",
       "           0,     0,     0,     0,     0,     0,     0,     0,     0,\n",
       "           0,     0,     0,     0,     0,     0,     0,     0,     0,\n",
       "           0,     0,     0,     0,     0,     0,     0,     0,     0,\n",
       "           0,     0,     0,     0,     0,     0,     0,     0,     0,\n",
       "           0,     0,     0,     0,     0,     0,     0,     0,     0,\n",
       "           0,     0,     0,     0,     0,     0,     0,     0,     0,\n",
       "           0,     0,     0,     0,     0,     0,     0,     0,     0,\n",
       "           0,     0,     0,     0,     0,     0,     0,     0,     0,\n",
       "           0,     0,     0,     0,     0,     0,     0,     0,     0,\n",
       "           0,     0,     0,     0,     0,     0,     0,     0,     0,\n",
       "           0,     0,     0,     0,     0,     0,     0,     0,     0,\n",
       "           0,     0,     0,     0,     0,     0,     0,     0,     0,\n",
       "           0,     0,     0,     0,     0,     0,     0,     0,     0,\n",
       "           0,     0,     0,     0,     0,     0,     0,     0,     0,\n",
       "           0,     0,     0,     0,     0,     0,     0,     0,     0,\n",
       "           0,     0,     0,     0,     0,     0,     0,     0,     0,\n",
       "           0,     0,     0,     0,     0,     0,     0,     0,     0,\n",
       "           0,     0,     0,     0,     0,     0,     0,     0,     0,\n",
       "           0,     0,     0,     0,     0,     0,     0,     0,     0,\n",
       "           0,     0,     0,     0,     0,     0,     0,     0,     0,\n",
       "           0,     0,     0,     0,     0,     0,     0,     0,     0,\n",
       "           0,     0,     0,     0,     0,     0,     0,     0,     0,\n",
       "           0,     0,     0,     0,     0,     0,     0,     0,     0,\n",
       "           0,     0,     0,     0,     0,     0,     0,     0,     0,\n",
       "           0,     0,     0,     0,     0,     0,     0,     0,     0,\n",
       "           0,     0,     0,     0,     0,     0,     0,     0,     0,\n",
       "           0,     0,     0,     0,     0,     0,     0,     0,     0,\n",
       "           0,     0,     0,     0,     0,     0,     0,     0,     0,\n",
       "           0,     0,     0,     0,     0,     0,     0,     0,     0,\n",
       "           0,     0,     0,     0,     0,     0,     0,     0,     0,\n",
       "           0,     0,     0,     0,     0,     0,     0,     0,     0,\n",
       "           0,     0,     0,     0,   891, 18886,  3262,   773,    85,\n",
       "          37,  2612,   503,    21,  9409,   449,     1,  6855,  5008,\n",
       "           4,   123,   269,  8923,   153,     1,  3484,  8191,    31,\n",
       "        8866,  5398,    30,  4255,     1,  8191,    47,    37,   146,\n",
       "          19,     1, 12343,    97,   160,   103,  3484,    37,   128,\n",
       "          45,  1830,    47,    92,    28, 14720,  2963, 10929,    29,\n",
       "        1340,    20,    32,  5415,  1292,     6,     1,  2353,     3,\n",
       "           1,  6514,   245,   933,    75,    82,  3184,     2,   252,\n",
       "           1,  6855,     1,  5045, 10929,    86,    81,    32,  5415,\n",
       "         553,     2,  2475,     2,  3308,     1,  2475,     6,     1,\n",
       "        6514,    86,   174,  1908,     1,  8191,   216,    71,   803,\n",
       "          15,    32,  5415,   553,    30, 15364,     6,     1,  1340,\n",
       "           5,     4, 12480,  7537,    30, 13709,     6,     1,  7920,\n",
       "        9360, 13235,   398,  6589,  6792,     6,     1,  5640,    12,\n",
       "           1,    75,  8866,   274,   316,  5556,   209,   858,   269,\n",
       "          12,     1,  6855,   382,   248,  9206,   213,     1,  7322,\n",
       "        5505,    51,    25, 18229,    30,     5,    91,   277,     6,\n",
       "           1, 10458,     5,   216,     1,   503,  3595,   512,    12,\n",
       "           1,  8191,     5,    25,  2097,    30,     6,     1,  7920,\n",
       "        2022,    30, 14625,     6,     1, 10458,     5,  1047,     6,\n",
       "           1, 12661,  1040,    72,   194,     3,     1,  8191,   803,\n",
       "         196,  1040,    72,     1,   126,  8866,   274,     5,  1040,\n",
       "          72,     1,   192,   123,     6,     1,   301,   269,  4726,\n",
       "          15,   784,     6,  1830, 18886,  3262,   145,   149,    40,\n",
       "           3,     1,   234,   387,   590,  2016,  4723,     6,    85,\n",
       "        7076,  2612,    11,    25,     4,   397,  1563,    12,   166,\n",
       "           5,    98,   203,    36,     3,   118,  8866,  1269,    19,\n",
       "         117,  1155,    12,   166,     5,    35,     4,   120,     2,\n",
       "          79,   212,    37,   384,  1502,     1,  2636,     7,    84,\n",
       "          11,   182,    16,  1306,     2,   130, 18138,   155,  6855,  2869], dtype=int32)"
      ]
     },
     "execution_count": 10,
     "metadata": {},
     "output_type": "execute_result"
    }
   ],
   "source": [
    "x_train[0]"
   ]
  },
  {
   "cell_type": "markdown",
   "metadata": {},
   "source": [
    "# Preparing the Embedding layer"
   ]
  },
  {
   "cell_type": "code",
   "execution_count": 11,
   "metadata": {},
   "outputs": [
    {
     "name": "stderr",
     "output_type": "stream",
     "text": [
      "IOPub data rate exceeded.\n",
      "The notebook server will temporarily stop sending output\n",
      "to the client in order to avoid crashing it.\n",
      "To change this limit, set the config variable\n",
      "`--NotebookApp.iopub_data_rate_limit`.\n",
      "\n",
      "Current values:\n",
      "NotebookApp.iopub_data_rate_limit=1000000.0 (bytes/sec)\n",
      "NotebookApp.rate_limit_window=3.0 (secs)\n",
      "\n"
     ]
    }
   ],
   "source": [
    "embeddings_index = {}\n",
    "try:\n",
    "    # we will use 100-dimentional GloVe embeddings of 400k words\n",
    "    # to pretrain the model.\n",
    "    f = open(os.path.join(GLOVE_DIR, 'glove.6B.100d.txt'))\n",
    "    for line in f:\n",
    "        values = line.split()\n",
    "        word = values[0]\n",
    "        coefs = np.asarray(values[1:], dtype='float32')\n",
    "        embeddings_index[word]= coefs\n",
    "finally:\n",
    "    f.close()\n",
    "    \n",
    "print('Found {} word vectors.'.format(embeddings_index))"
   ]
  },
  {
   "cell_type": "code",
   "execution_count": 12,
   "metadata": {},
   "outputs": [
    {
     "data": {
      "text/plain": [
       "400000"
      ]
     },
     "execution_count": 12,
     "metadata": {},
     "output_type": "execute_result"
    }
   ],
   "source": [
    "len(embeddings_index.keys())"
   ]
  },
  {
   "cell_type": "markdown",
   "metadata": {},
   "source": [
    "#### Compute the embedding matrix"
   ]
  },
  {
   "cell_type": "code",
   "execution_count": 13,
   "metadata": {},
   "outputs": [],
   "source": [
    "num_words = min(MAX_NB_WORDS, len(word_index))\n",
    "embedding_matrix = np.zeros((num_words, EMBEDDING_DIM))\n",
    "for word, i in word_index.items():\n",
    "    if i >= MAX_NB_WORDS:\n",
    "        continue\n",
    "    embedding_vector = embeddings_index.get(word)\n",
    "    if embedding_vector is not None:\n",
    "        embedding_matrix[i] = embedding_vector"
   ]
  },
  {
   "cell_type": "code",
   "execution_count": 14,
   "metadata": {},
   "outputs": [
    {
     "data": {
      "text/plain": [
       "(20000, 100)"
      ]
     },
     "execution_count": 14,
     "metadata": {},
     "output_type": "execute_result"
    }
   ],
   "source": [
    "embedding_matrix.shape"
   ]
  },
  {
   "cell_type": "code",
   "execution_count": 15,
   "metadata": {},
   "outputs": [
    {
     "name": "stdout",
     "output_type": "stream",
     "text": [
      "20000 20000 174074\n"
     ]
    }
   ],
   "source": [
    "print(num_words, MAX_NB_WORDS, len(word_index))"
   ]
  },
  {
   "cell_type": "code",
   "execution_count": 16,
   "metadata": {},
   "outputs": [],
   "source": [
    "embedding_layer = Embedding(num_words,\n",
    "                           EMBEDDING_DIM,\n",
    "                           weights=[embedding_matrix], #frozen it, not update during the training\n",
    "                           input_length=MAX_SEQUENCE_LENGTH,\n",
    "                           trainable=False)\n",
    "# embedding map the ints to the vectors\n",
    "# i.e. [1, 2] would be converted to [embedding[1], embedding[2]]\n",
    "# the output will be 3D tensor of shape (samples, sequence_length, embedding_dim)\n"
   ]
  },
  {
   "cell_type": "code",
   "execution_count": 18,
   "metadata": {},
   "outputs": [
    {
     "name": "stdout",
     "output_type": "stream",
     "text": [
      "Train on 15998 samples, validate on 3999 samples\n",
      "Epoch 1/2\n",
      "15998/15998 [==============================] - 177s 11ms/step - loss: 2.3934 - acc: 0.2154 - val_loss: 1.7836 - val_acc: 0.3788\n",
      "Epoch 2/2\n",
      "15998/15998 [==============================] - 173s 11ms/step - loss: 1.5814 - acc: 0.4477 - val_loss: 1.2971 - val_acc: 0.5434\n"
     ]
    },
    {
     "data": {
      "text/plain": [
       "<keras.callbacks.History at 0x181cb8e0f0>"
      ]
     },
     "execution_count": 18,
     "metadata": {},
     "output_type": "execute_result"
    }
   ],
   "source": [
    "# training a 1D convnet\n",
    "sequence_input = Input(shape=(MAX_SEQUENCE_LENGTH,), dtype='int32')\n",
    "embedded_sequence = embedding_layer(sequence_input)\n",
    "\n",
    "x = Conv1D(128, 5, activation='relu')(embedded_sequence)\n",
    "x = MaxPooling1D(5)(x)\n",
    "x = Conv1D(128, 5, activation='relu')(x)\n",
    "x = MaxPooling1D(5)(x)\n",
    "x = Conv1D(128, 5, activation='relu')(x)\n",
    "x = GlobalMaxPooling1D()(x) # global max pooling\n",
    "x = Dense(128, activation='relu')(x)\n",
    "\n",
    "preds = Dense(len(labels_index), activation='softmax')(x)\n",
    "\n",
    "model = Model(sequence_input, preds)\n",
    "model.compile(loss='categorical_crossentropy',\n",
    "              optimizer='rmsprop',\n",
    "              metrics=['acc'])\n",
    "\n",
    "model.fit(x_train, y_train, validation_data=(x_val, y_val),\n",
    "         epochs=2,\n",
    "         batch_size=128)\n"
   ]
  },
  {
   "cell_type": "code",
   "execution_count": 67,
   "metadata": {},
   "outputs": [
    {
     "name": "stdout",
     "output_type": "stream",
     "text": [
      "\n",
      "\n",
      "Tony Lezard <tony@mantis.co.uk> writes:\n",
      "\n",
      ">My opinion is that the strong atheist position requires too much\n",
      ">belief for me to be comfortable with. Any strong atheists out there\n",
      ">care to comment? As far as I can tell, strong atheists are far\n",
      ">outnumbered on alt.atheism by weak atheists.\n",
      "\n",
      "At the cost of repudiating the FAQ, I think too much is made of the\n",
      "strong vs weak atheism issue, although in the context of alt.atheism,\n",
      "where we're continually attacked on the basis that strong atheists\n",
      "\"believe\" in the non-existence of god, I think the separation is a\n",
      "valid one.\n",
      "\n",
      "To cover my arse, what I'm trying to say is that there is an\n",
      "infinitely grey area between weak and strong, as well as between\n",
      "strong and the unattainable mathematical atheism (I wish!).  Whereas I\n",
      "_logically_ can only support the weak atheist position, in effect I am\n",
      "a strong atheist (and wish I could be a mathematical one).  To\n",
      "justify my strong atheist position I believe I need only show that\n",
      "the evidence presented in favour of any of the gods under scrutiny\n",
      "is faulty.\n",
      "\n",
      "If I read the FAQ correctly, no argument for the existence of god\n",
      "(generic, as represented by mainstream theologians) has ever been\n",
      "found to be unassailable.  To me this is adequate evidence that the\n",
      "_real_god_ is undefinable (or at least no definition has yet been\n",
      "found to be watertight), which in turn I accept as sufficient to\n",
      "base a disbelief in each and every conceivable god.\n",
      "\n",
      "I'm a little fuzzy on the edges, though, so opinions are welcome\n",
      "(but perhaps we should change the thread subject).\n",
      "-- \n",
      "Lucio de Re (lucio@proxima.Alt.ZA) - tab stops at four.\n",
      "\n",
      "Found 174074 unique tokens.\n",
      "(1, 1000)\n",
      "(1, 1000)\n",
      "[0]\n",
      "(15998, 20)\n",
      "\r",
      "1/1 [==============================] - 0s 9ms/step\n"
     ]
    },
    {
     "data": {
      "text/plain": [
       "[0.9114609956741333, 0.0]"
      ]
     },
     "execution_count": 67,
     "metadata": {},
     "output_type": "execute_result"
    }
   ],
   "source": [
    "text = \"\"\"\n",
    "Newsgroups: alt.atheism\n",
    "Path: cantaloupe.srv.cs.cmu.edu!crabapple.srv.cs.cmu.edu!fs7.ece.cmu.edu!europa.eng.gtefsd.com!howland.reston.ans.net!noc.near.net!uunet!psgrain!ee.und.ac.za!csir.co.za!proxima.alt.za!lucio\n",
    "From: lucio@proxima.alt.za (Lucio de Re)\n",
    "Subject: Re: atheist?\n",
    "Message-ID: <1993Apr6.090128.15186@proxima.alt.za>\n",
    "Reply-To: lucio@proxima.Alt.ZA\n",
    "Organization: MegaByte Digital Telecommunications\n",
    "References: <1993Apr1.140431.250@juncol.juniata.edu> <ii1i2B1w165w@mantis.co.uk>\n",
    "Date: Tue, 6 Apr 1993 09:01:28 GMT\n",
    "Lines: 33\n",
    "\n",
    "Tony Lezard <tony@mantis.co.uk> writes:\n",
    "\n",
    ">My opinion is that the strong atheist position requires too much\n",
    ">belief for me to be comfortable with. Any strong atheists out there\n",
    ">care to comment? As far as I can tell, strong atheists are far\n",
    ">outnumbered on alt.atheism by weak atheists.\n",
    "\n",
    "At the cost of repudiating the FAQ, I think too much is made of the\n",
    "strong vs weak atheism issue, although in the context of alt.atheism,\n",
    "where we're continually attacked on the basis that strong atheists\n",
    "\"believe\" in the non-existence of god, I think the separation is a\n",
    "valid one.\n",
    "\n",
    "To cover my arse, what I'm trying to say is that there is an\n",
    "infinitely grey area between weak and strong, as well as between\n",
    "strong and the unattainable mathematical atheism (I wish!).  Whereas I\n",
    "_logically_ can only support the weak atheist position, in effect I am\n",
    "a strong atheist (and wish I could be a mathematical one).  To\n",
    "justify my strong atheist position I believe I need only show that\n",
    "the evidence presented in favour of any of the gods under scrutiny\n",
    "is faulty.\n",
    "\n",
    "If I read the FAQ correctly, no argument for the existence of god\n",
    "(generic, as represented by mainstream theologians) has ever been\n",
    "found to be unassailable.  To me this is adequate evidence that the\n",
    "_real_god_ is undefinable (or at least no definition has yet been\n",
    "found to be watertight), which in turn I accept as sufficient to\n",
    "base a disbelief in each and every conceivable god.\n",
    "\n",
    "I'm a little fuzzy on the edges, though, so opinions are welcome\n",
    "(but perhaps we should change the thread subject).\n",
    "-- \n",
    "Lucio de Re (lucio@proxima.Alt.ZA) - tab stops at four.\n",
    "\"\"\"\n",
    "i = text.find('\\n\\n')\n",
    "if 0 < i:\n",
    "    text = text[i:]\n",
    "print(text)\n",
    "tokenizer2 = Tokenizer(num_words=MAX_NB_WORDS) # 20,000 words\n",
    "tokenizer2.fit_on_texts([text])\n",
    "sequences2 = tokenizer.texts_to_sequences([text])\n",
    "\n",
    "word_index2 = tokenizer.word_index\n",
    "print(\"Found {} unique tokens.\".format(len(word_index2)))\n",
    "\n",
    "data2 = pad_sequences(sequences2, maxlen=MAX_SEQUENCE_LENGTH)\n",
    "\n",
    "indices2 = np.arange(data2.shape[0])\n",
    "data2 = data2[indices2]\n",
    "\n",
    "print(np.asarray(data2).shape)\n",
    "print(data2.shape)\n",
    "print(np.asarray([0]))\n",
    "print(y_train.shape)\n",
    "y2 = np.zeros(20)\n",
    "y2[0] = 1 #\n",
    "\n",
    "model.evaluate(x=data2, y=np.reshape(y2, newshape=(1,20)))"
   ]
  },
  {
   "cell_type": "code",
   "execution_count": 65,
   "metadata": {},
   "outputs": [],
   "source": [
    "predicted = model.predict(x=data2)"
   ]
  },
  {
   "cell_type": "markdown",
   "metadata": {},
   "source": [
    "should be `alt.atheism` label though"
   ]
  },
  {
   "cell_type": "code",
   "execution_count": 66,
   "metadata": {},
   "outputs": [
    {
     "name": "stdout",
     "output_type": "stream",
     "text": [
      "0.470408\n",
      "talk.religion.misc\n"
     ]
    }
   ],
   "source": [
    "print(max(predicted[0]))\n",
    "print(list(labels_index.keys())[list(labels_index.values()).index(predicted.argmax())])"
   ]
  },
  {
   "cell_type": "code",
   "execution_count": 5,
   "metadata": {},
   "outputs": [
    {
     "data": {
      "text/plain": [
       "[1, 8, 2, 7, 1]"
      ]
     },
     "execution_count": 5,
     "metadata": {},
     "output_type": "execute_result"
    }
   ],
   "source": [
    "from keras.preprocessing.text import one_hot\n",
    "one_hot(text=\"oops i did it agian.\", n = 10)"
   ]
  },
  {
   "cell_type": "code",
   "execution_count": null,
   "metadata": {},
   "outputs": [],
   "source": []
  }
 ],
 "metadata": {
  "kernelspec": {
   "display_name": "Python 3",
   "language": "python",
   "name": "python3"
  },
  "language_info": {
   "codemirror_mode": {
    "name": "ipython",
    "version": 3
   },
   "file_extension": ".py",
   "mimetype": "text/x-python",
   "name": "python",
   "nbconvert_exporter": "python",
   "pygments_lexer": "ipython3",
   "version": "3.6.3"
  }
 },
 "nbformat": 4,
 "nbformat_minor": 2
}
