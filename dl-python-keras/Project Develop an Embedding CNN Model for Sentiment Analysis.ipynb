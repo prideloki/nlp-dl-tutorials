{
 "cells": [
  {
   "cell_type": "code",
   "execution_count": 1,
   "metadata": {},
   "outputs": [],
   "source": [
    "TXT_SENTOKEN_DIR = 'review_polarity/txt_sentoken'"
   ]
  },
  {
   "cell_type": "code",
   "execution_count": 2,
   "metadata": {},
   "outputs": [],
   "source": [
    "from nltk.corpus import stopwords\n",
    "import string\n",
    "import re\n",
    "import os\n",
    "\n",
    "\n",
    "def load_doc(filename):\n",
    "    with open(filename, 'r') as f:\n",
    "        text = f.read()\n",
    "    return text\n",
    "\n",
    "def clean_doc(doc):\n",
    "    tokens = doc.split()\n",
    "    \n",
    "    re_punc = re.compile('[{}]'.format(re.escape(string.punctuation)))\n",
    "    \n",
    "    tokens = [re_punc.sub('', w) for w in tokens]\n",
    "    \n",
    "    tokens = [w for w in tokens if w.isalpha()]\n",
    "    \n",
    "    stop_words = set(stopwords.words('english'))\n",
    "    \n",
    "    tokens = [w for w in tokens if not w in stop_words]\n",
    "    \n",
    "    tokens = [w for w in tokens if len(w) > 1]\n",
    "    return tokens\n",
    "\n",
    "def add_doc_to_vocab(filename, vocab):\n",
    "    doc = load_doc(filename)\n",
    "    \n",
    "    tokens = clean_doc(doc)\n",
    "    \n",
    "    vocab.update(tokens)\n",
    "    \n",
    "def process_docs(directory, vocab):\n",
    "    for fn in os.listdir(directory):\n",
    "        if fn.startswith('cv9'):\n",
    "            continue\n",
    "        \n",
    "        path = os.path.join(directory, fn)\n",
    "        add_doc_to_vocab(path, vocab)\n",
    "        \n",
    "def save_list(lines, filename):\n",
    "    data = '\\n'.join(lines)\n",
    "    \n",
    "    with open(filename, 'w') as f:\n",
    "        f.write(data)\n",
    "        "
   ]
  },
  {
   "cell_type": "code",
   "execution_count": 3,
   "metadata": {
    "scrolled": true
   },
   "outputs": [
    {
     "name": "stdout",
     "output_type": "stream",
     "text": [
      "['films', 'adapted', 'comic', 'books', 'plenty', 'success', 'whether', 'theyre', 'superheroes', 'batman', 'superman', 'spawn', 'geared', 'toward', 'kids', 'casper', 'arthouse', 'crowd', 'ghost', 'world', 'theres', 'never', 'really', 'comic', 'book', 'like', 'hell', 'starters', 'created', 'alan', 'moore', 'eddie', 'campbell', 'brought', 'medium', 'whole', 'new', 'level', 'mid', 'series', 'called', 'watchmen', 'say', 'moore', 'campbell', 'thoroughly', 'researched', 'subject', 'jack', 'ripper', 'would', 'like', 'saying', 'michael', 'jackson', 'starting', 'look', 'little', 'odd', 'book', 'graphic', 'novel', 'pages', 'long', 'includes', 'nearly', 'consist', 'nothing', 'footnotes', 'words', 'dont', 'dismiss', 'film', 'source', 'get', 'past', 'whole', 'comic', 'book', 'thing', 'might', 'find', 'another', 'stumbling', 'block', 'hells', 'directors', 'albert', 'allen', 'hughes', 'getting', 'hughes', 'brothers', 'direct', 'seems', 'almost', 'ludicrous', 'casting', 'carrot', 'top', 'well', 'anything', 'riddle', 'better', 'direct', 'film', 'thats', 'set', 'ghetto', 'features', 'really', 'violent', 'street', 'crime', 'mad', 'geniuses', 'behind', 'menace', 'ii', 'society', 'ghetto', 'question', 'course', 'whitechapel', 'londons', 'east', 'end', 'filthy', 'sooty', 'place', 'whores', 'called', 'unfortunates', 'starting', 'get', 'little', 'nervous', 'mysterious', 'psychopath', 'carving', 'profession', 'surgical', 'precision', 'first', 'stiff', 'turns', 'copper', 'peter', 'godley', 'robbie', 'coltrane', 'world', 'enough', 'calls', 'inspector', 'frederick', 'abberline', 'johnny', 'depp', 'blow', 'crack', 'case', 'abberline', 'widower', 'prophetic', 'dreams', 'unsuccessfully', 'tries', 'quell', 'copious', 'amounts', 'absinthe', 'opium', 'upon', 'arriving', 'whitechapel', 'befriends', 'unfortunate', 'named', 'mary', 'kelly', 'heather', 'graham', 'say', 'isnt', 'proceeds', 'investigate', 'horribly', 'gruesome', 'crimes', 'even', 'police', 'surgeon', 'cant', 'stomach', 'dont', 'think', 'anyone', 'needs', 'briefed', 'jack', 'ripper', 'wont', 'go', 'particulars', 'say', 'moore', 'campbell', 'unique', 'interesting', 'theory', 'identity', 'killer', 'reasons', 'chooses', 'slay', 'comic', 'dont', 'bother', 'cloaking', 'identity', 'ripper', 'screenwriters', 'terry', 'hayes', 'vertical', 'limit', 'rafael', 'yglesias', 'les', 'mis', 'rables', 'good', 'job', 'keeping', 'hidden', 'viewers', 'end', 'funny', 'watch', 'locals', 'blindly', 'point', 'finger', 'blame', 'jews', 'indians', 'englishman', 'could', 'never', 'capable', 'committing', 'ghastly', 'acts', 'hells', 'ending', 'whistling', 'stonecutters', 'song', 'simpsons', 'days', 'holds', 'back', 'electric', 'carwho', 'made', 'steve', 'guttenberg', 'star', 'dont', 'worry', 'itll', 'make', 'sense', 'see', 'onto', 'hells', 'appearance', 'certainly', 'dark', 'bleak', 'enough', 'surprising', 'see', 'much', 'looks', 'like', 'tim', 'burton', 'film', 'planet', 'apes', 'times', 'seems', 'like', 'sleepy', 'hollow', 'print', 'saw', 'wasnt', 'completely', 'finished', 'color', 'music', 'finalized', 'comments', 'marilyn', 'manson', 'cinematographer', 'peter', 'deming', 'dont', 'say', 'word', 'ably', 'captures', 'dreariness', 'victorianera', 'london', 'helped', 'make', 'flashy', 'killing', 'scenes', 'remind', 'crazy', 'flashbacks', 'twin', 'peaks', 'even', 'though', 'violence', 'film', 'pales', 'comparison', 'blackandwhite', 'comic', 'oscar', 'winner', 'martin', 'childs', 'shakespeare', 'love', 'production', 'design', 'turns', 'original', 'prague', 'surroundings', 'one', 'creepy', 'place', 'even', 'acting', 'hell', 'solid', 'dreamy', 'depp', 'turning', 'typically', 'strong', 'performance', 'deftly', 'handling', 'british', 'accent', 'ians', 'holm', 'joe', 'goulds', 'secret', 'richardson', 'dalmatians', 'log', 'great', 'supporting', 'roles', 'big', 'surprise', 'graham', 'cringed', 'first', 'time', 'opened', 'mouth', 'imagining', 'attempt', 'irish', 'accent', 'actually', 'wasnt', 'half', 'bad', 'film', 'however', 'good', 'strong', 'violencegore', 'sexuality', 'language', 'drug', 'content']\n"
     ]
    }
   ],
   "source": [
    "fn = os.path.join(TXT_SENTOKEN_DIR, 'pos/cv000_29590.txt')\n",
    "text = load_doc(fn)\n",
    "tokens = clean_doc(text)\n",
    "print(tokens)"
   ]
  },
  {
   "cell_type": "code",
   "execution_count": 4,
   "metadata": {},
   "outputs": [
    {
     "name": "stdout",
     "output_type": "stream",
     "text": [
      "44276\n",
      "25767\n"
     ]
    }
   ],
   "source": [
    "from collections import Counter\n",
    "vocab = Counter()\n",
    "\n",
    "process_docs(os.path.join(TXT_SENTOKEN_DIR, 'neg'), vocab)\n",
    "process_docs(os.path.join(TXT_SENTOKEN_DIR, 'pos'), vocab)\n",
    "\n",
    "print(len(vocab))\n",
    "\n",
    "min_occurrence = 2\n",
    "\n",
    "tokens = [k for k,c in vocab.items() if c >= min_occurrence]\n",
    "\n",
    "print(len(tokens))\n",
    "\n",
    "save_list(tokens, 'vocab.txt')"
   ]
  },
  {
   "cell_type": "code",
   "execution_count": 5,
   "metadata": {},
   "outputs": [
    {
     "name": "stderr",
     "output_type": "stream",
     "text": [
      "Using TensorFlow backend.\n",
      "/Users/narukawinjidtrengam/anaconda3/lib/python3.6/importlib/_bootstrap.py:219: RuntimeWarning: compiletime version 3.5 of module 'tensorflow.python.framework.fast_tensor_util' does not match runtime version 3.6\n",
      "  return f(*args, **kwds)\n"
     ]
    }
   ],
   "source": [
    "from keras.preprocessing.text import Tokenizer\n",
    "from keras.preprocessing.sequence import pad_sequences\n",
    "from keras.models import Sequential\n",
    "from keras.layers import Embedding, Conv1D, MaxPooling1D, Flatten, Dense\n",
    "from keras.utils import plot_model\n",
    "from numpy import array\n",
    "\n",
    "def process_docs(directory, vocab, is_train):\n",
    "    documents = list()\n",
    "    \n",
    "    for fn in os.listdir(directory):\n",
    "        if is_train and fn.startswith('cv9'):\n",
    "            continue\n",
    "        if not is_train and not fn.startswith('cv9'):\n",
    "            continue\n",
    "        \n",
    "        path = os.path.join(directory, fn)\n",
    "        \n",
    "        doc = load_doc(path)\n",
    "        \n",
    "        tokens = clean_doc(doc, vocab)\n",
    "        \n",
    "        documents.append(tokens)\n",
    "    return documents\n",
    "\n",
    "def clean_doc(doc, vocab):\n",
    "    tokens = doc.split()\n",
    "    \n",
    "    re_punc = re.compile('[{}]'.format(re.escape(string.punctuation)))\n",
    "    \n",
    "    tokens = [re_punc.sub('', w) for w in tokens]\n",
    "    \n",
    "    tokens = [w for w in tokens if w in vocab]\n",
    "    \n",
    "    tokens = ' '.join(tokens)\n",
    "    return tokens\n",
    "\n",
    "def load_clean_dataset(vocab, is_train):\n",
    "    neg = process_docs(os.path.join(TXT_SENTOKEN_DIR, 'neg'), vocab, is_train)\n",
    "    pos = process_docs(os.path.join(TXT_SENTOKEN_DIR, 'pos'), vocab, is_train)\n",
    "    \n",
    "    docs = neg + pos\n",
    "    \n",
    "    labels = array([0 for _ in range(len(neg))] + [1 for _ in range(len(pos))])\n",
    "    return docs, labels\n",
    "\n",
    "def create_tokenizer(lines):\n",
    "    tokenizer = Tokenizer()\n",
    "    tokenizer.fit_on_texts(lines)\n",
    "    return tokenizer\n",
    "\n",
    "def encode_docs(tokenizer, max_length, docs):\n",
    "    encoded = tokenizer.texts_to_sequences(docs)\n",
    "    padded = pad_sequences(encoded, maxlen=max_length, padding='post')\n",
    "    return padded\n",
    "\n",
    "def define_model(vocab_size, max_length):\n",
    "    model = Sequential()\n",
    "    model.add(Embedding(vocab_size, 100, input_length=max_length))\n",
    "    model.add(Conv1D(filters=32, kernel_size=8, activation='relu'))\n",
    "    model.add(MaxPooling1D(pool_size=2))\n",
    "    model.add(Flatten())\n",
    "    model.add(Dense(10, activation='relu'))\n",
    "    model.add(Dense(1, activation='sigmoid'))\n",
    "    \n",
    "    model.compile(loss='binary_crossentropy', optimizer='adam', metrics=['acc'])\n",
    "    \n",
    "    model.summary()\n",
    "    plot_model(model, to_file='embedding_cnn.png', show_shapes=True)\n",
    "    return model"
   ]
  },
  {
   "cell_type": "code",
   "execution_count": 6,
   "metadata": {},
   "outputs": [
    {
     "name": "stdout",
     "output_type": "stream",
     "text": [
      "Vocabulary size :25768\n",
      "Maximum length: 1317\n",
      "_________________________________________________________________\n",
      "Layer (type)                 Output Shape              Param #   \n",
      "=================================================================\n",
      "embedding_1 (Embedding)      (None, 1317, 100)         2576800   \n",
      "_________________________________________________________________\n",
      "conv1d_1 (Conv1D)            (None, 1310, 32)          25632     \n",
      "_________________________________________________________________\n",
      "max_pooling1d_1 (MaxPooling1 (None, 655, 32)           0         \n",
      "_________________________________________________________________\n",
      "flatten_1 (Flatten)          (None, 20960)             0         \n",
      "_________________________________________________________________\n",
      "dense_1 (Dense)              (None, 10)                209610    \n",
      "_________________________________________________________________\n",
      "dense_2 (Dense)              (None, 1)                 11        \n",
      "=================================================================\n",
      "Total params: 2,812,053\n",
      "Trainable params: 2,812,053\n",
      "Non-trainable params: 0\n",
      "_________________________________________________________________\n",
      "Epoch 1/10\n",
      " - 15s - loss: 0.6880 - acc: 0.5539\n",
      "Epoch 2/10\n",
      " - 16s - loss: 0.3739 - acc: 0.8856\n",
      "Epoch 3/10\n",
      " - 17s - loss: 0.0241 - acc: 0.9978\n",
      "Epoch 4/10\n",
      " - 19s - loss: 0.0034 - acc: 1.0000\n",
      "Epoch 5/10\n",
      " - 16s - loss: 0.0016 - acc: 1.0000\n",
      "Epoch 6/10\n",
      " - 15s - loss: 0.0011 - acc: 1.0000\n",
      "Epoch 7/10\n",
      " - 14s - loss: 7.1692e-04 - acc: 1.0000\n",
      "Epoch 8/10\n",
      " - 15s - loss: 4.9189e-04 - acc: 1.0000\n",
      "Epoch 9/10\n",
      " - 14s - loss: 3.6761e-04 - acc: 1.0000\n",
      "Epoch 10/10\n",
      " - 14s - loss: 2.8715e-04 - acc: 1.0000\n"
     ]
    }
   ],
   "source": [
    "vocab_filename = 'vocab.txt'\n",
    "vocab = load_doc(vocab_filename)\n",
    "vocab = set(vocab.split())\n",
    "\n",
    "train_docs, ytrain = load_clean_dataset(vocab, True)\n",
    "\n",
    "tokenizer = create_tokenizer(train_docs)\n",
    "\n",
    "vocab_size = len(tokenizer.word_index) + 1\n",
    "\n",
    "print('Vocabulary size :{}'.format(vocab_size))\n",
    "\n",
    "max_length = max([len(s.split()) for s in train_docs])\n",
    "\n",
    "print('Maximum length: {}'.format(max_length))\n",
    "\n",
    "x_train = encode_docs(tokenizer, max_length, train_docs)\n",
    "\n",
    "model = define_model(vocab_size, max_length)\n",
    "\n",
    "model.fit(x_train, ytrain, epochs=10, verbose=2)\n",
    "\n",
    "model.save('cnn-model.h5')"
   ]
  },
  {
   "cell_type": "code",
   "execution_count": 7,
   "metadata": {},
   "outputs": [],
   "source": [
    "from keras.models import load_model\n",
    "test_docs, ytest = load_clean_dataset(vocab, False)\n",
    "x_test = encode_docs(tokenizer, max_length, test_docs)"
   ]
  },
  {
   "cell_type": "code",
   "execution_count": 8,
   "metadata": {},
   "outputs": [
    {
     "name": "stdout",
     "output_type": "stream",
     "text": [
      "Train Accuracy: 100.0\n",
      "Test Accuracy: 87.5\n"
     ]
    }
   ],
   "source": [
    "model = load_model('cnn-model.h5')\n",
    "_, acc = model.evaluate(x_train, ytrain, verbose=0)\n",
    "print('Train Accuracy: {}'.format(acc*100))\n",
    "\n",
    "_, acc = model.evaluate(x_test, ytest, verbose=0)\n",
    "print('Test Accuracy: {}'.format(acc*100))"
   ]
  },
  {
   "cell_type": "code",
   "execution_count": 9,
   "metadata": {},
   "outputs": [],
   "source": [
    "def predict_sentiment(review, vocab, tokenizer, max_length, model):\n",
    "    line = clean_doc(review, vocab)\n",
    "    \n",
    "    padded = encode_docs(tokenizer, max_length, [line])\n",
    "    \n",
    "    yhat = model.predict(padded, verbose=0)\n",
    "    \n",
    "    percent_pos = yhat[0,0]\n",
    "    \n",
    "    if round(percent_pos) == 0:\n",
    "        return (1-percent_pos), 'NEGATIVE'\n",
    "    return percent_pos, 'POSITIVE'"
   ]
  },
  {
   "cell_type": "code",
   "execution_count": 10,
   "metadata": {},
   "outputs": [
    {
     "name": "stdout",
     "output_type": "stream",
     "text": [
      "Review: Everyone will enjoy this film. I love it, recommneded!\n",
      "Sentiment: NEGATIVE (51.3288289308548)\n"
     ]
    }
   ],
   "source": [
    "text = 'Everyone will enjoy this film. I love it, recommneded!'\n",
    "\n",
    "percent, sentiment = predict_sentiment(text, vocab, tokenizer, max_length, model)\n",
    "print('Review: {}\\nSentiment: {} ({})'.format(text, sentiment, percent*100))"
   ]
  },
  {
   "cell_type": "code",
   "execution_count": 11,
   "metadata": {},
   "outputs": [
    {
     "name": "stdout",
     "output_type": "stream",
     "text": [
      "Review: This is a bad movie. Do not watch it. It sucks.\n",
      "Sentiment: NEGATIVE (57.188668847084045)\n"
     ]
    }
   ],
   "source": [
    "text = 'This is a bad movie. Do not watch it. It sucks.'\n",
    "\n",
    "percent, sentiment = predict_sentiment(text, vocab, tokenizer, max_length, model)\n",
    "print('Review: {}\\nSentiment: {} ({})'.format(text, sentiment, percent*100))"
   ]
  },
  {
   "cell_type": "code",
   "execution_count": null,
   "metadata": {},
   "outputs": [],
   "source": []
  }
 ],
 "metadata": {
  "kernelspec": {
   "display_name": "Python 3",
   "language": "python",
   "name": "python3"
  },
  "language_info": {
   "codemirror_mode": {
    "name": "ipython",
    "version": 3
   },
   "file_extension": ".py",
   "mimetype": "text/x-python",
   "name": "python",
   "nbconvert_exporter": "python",
   "pygments_lexer": "ipython3",
   "version": "3.6.3"
  }
 },
 "nbformat": 4,
 "nbformat_minor": 2
}
